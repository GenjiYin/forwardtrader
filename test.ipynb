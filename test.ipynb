{
 "cells": [
  {
   "cell_type": "code",
   "execution_count": 1,
   "id": "e67575d4",
   "metadata": {},
   "outputs": [
    {
     "name": "stderr",
     "output_type": "stream",
     "text": [
      "在使用天勤量化之前，默认您已经知晓并同意以下免责条款，如果不同意请立即停止使用：https://www.shinnytech.com/blog/disclaimer/\n"
     ]
    },
    {
     "name": "stdout",
     "output_type": "stream",
     "text": [
      "2025-10-22 23:56:02 -     INFO - 通知 : 与 wss://free-api.shinnytech.com/t/nfmd/front/mobile 的网络连接已建立\n",
      "2025-10-22 23:56:02 -     INFO - 通知 x6504368: 与 wss://otg-sim.shinnytech.com/trade 的网络连接已建立\n",
      "2025-10-22 23:56:02 -     INFO - 通知 x6504368: 登录成功\n"
     ]
    }
   ],
   "source": [
    "from tqsdk import TqApi, TqSim, TqAuth, TqKq\n",
    "import datetime\n",
    "import time\n",
    "tianqin = TqApi(TqKq(), auth=TqAuth('x6504368', 'x6504368'))"
   ]
  },
  {
   "cell_type": "code",
   "execution_count": 4,
   "id": "2d4d1951",
   "metadata": {},
   "outputs": [
    {
     "data": {
      "text/plain": [
       "<tqsdk.objs.Account object at 0x000002129DE6B650>, D({'currency': 'CNY', 'pre_balance': 999999.8200000004, 'static_balance': 999999.8200000004, 'balance': 999999.8200000004, 'available': 999999.8200000004, 'ctp_balance': nan, 'ctp_available': nan, 'float_profit': 0.0, 'position_profit': 0.0, 'close_profit': 0.0, 'frozen_margin': 0.0, 'margin': 0.0, 'frozen_commission': 0.0, 'commission': 0.0, 'frozen_premium': 0.0, 'premium': 0.0, 'deposit': 0.0, 'withdraw': 0.0, 'risk_ratio': 0.0, 'market_value': 0.0, 'user_id': '529d4005-4616-428d-8d55-fb3714e10412', 'pre_option_market_value': 0.0})"
      ]
     },
     "execution_count": 4,
     "metadata": {},
     "output_type": "execute_result"
    }
   ],
   "source": [
    "tianqin.get_account()"
   ]
  },
  {
   "cell_type": "code",
   "execution_count": 2,
   "id": "0f60edb5",
   "metadata": {},
   "outputs": [
    {
     "data": {
      "text/plain": [
       "False"
      ]
     },
     "execution_count": 2,
     "metadata": {},
     "output_type": "execute_result"
    }
   ],
   "source": [
    "tick = tianqin.get_quote('SHFE.rb2512')\n",
    "tianqin.wait_update(deadline=time.time()+2)\n",
    "# tick"
   ]
  },
  {
   "cell_type": "code",
   "execution_count": 3,
   "id": "df93328b",
   "metadata": {},
   "outputs": [],
   "source": [
    "tianqin.close()"
   ]
  },
  {
   "cell_type": "code",
   "execution_count": 3,
   "id": "99a9200e",
   "metadata": {},
   "outputs": [],
   "source": [
    "def trans_time(ts):\n",
    "    try:\n",
    "        from datetime import datetime\n",
    "        timestamp_s = ts / 1e9\n",
    "        dt_object = datetime.fromtimestamp(timestamp_s)\n",
    "        formatted_time = dt_object.strftime(\"%Y-%m-%d %H:%M:%S\")\n",
    "        return formatted_time\n",
    "    except:\n",
    "        return ts"
   ]
  },
  {
   "cell_type": "code",
   "execution_count": null,
   "id": "b707c806",
   "metadata": {},
   "outputs": [],
   "source": [
    "from tianqin_backtrader import MyStore, MyBroker"
   ]
  }
 ],
 "metadata": {
  "kernelspec": {
   "display_name": "DeepLearning",
   "language": "python",
   "name": "python3"
  },
  "language_info": {
   "codemirror_mode": {
    "name": "ipython",
    "version": 3
   },
   "file_extension": ".py",
   "mimetype": "text/x-python",
   "name": "python",
   "nbconvert_exporter": "python",
   "pygments_lexer": "ipython3",
   "version": "3.12.0"
  }
 },
 "nbformat": 4,
 "nbformat_minor": 5
}
