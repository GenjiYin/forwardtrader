{
 "cells": [
  {
   "cell_type": "code",
   "execution_count": null,
   "id": "e67575d4",
   "metadata": {},
   "outputs": [
    {
     "name": "stdout",
     "output_type": "stream",
     "text": [
      "2025-10-20 17:17:33 -     INFO - 通知 : 与 wss://free-api.shinnytech.com/t/nfmd/front/mobile 的网络连接已建立\n",
      "2025-10-20 17:17:33 -     INFO - 通知 x6504368: 与 wss://otg-sim.shinnytech.com/trade 的网络连接已建立\n",
      "2025-10-20 17:17:33 -     INFO - 通知 x6504368: 登录成功\n"
     ]
    }
   ],
   "source": [
    "from tqsdk import TqApi, TqSim, TqAuth, TqKq\n",
    "import datetime\n",
    "import time\n",
    "tianqin = TqApi(TqKq(), auth=TqAuth('xxxx', 'xxxx'))"
   ]
  },
  {
   "cell_type": "code",
   "execution_count": 5,
   "id": "0f60edb5",
   "metadata": {},
   "outputs": [
    {
     "data": {
      "text/plain": [
       "False"
      ]
     },
     "execution_count": 5,
     "metadata": {},
     "output_type": "execute_result"
    }
   ],
   "source": [
    "tianqin.wait_update(time.time()+2)"
   ]
  },
  {
   "cell_type": "code",
   "execution_count": 3,
   "id": "df93328b",
   "metadata": {},
   "outputs": [],
   "source": [
    "tianqin.close()"
   ]
  },
  {
   "cell_type": "code",
   "execution_count": 3,
   "id": "99a9200e",
   "metadata": {},
   "outputs": [],
   "source": [
    "def trans_time(ts):\n",
    "    try:\n",
    "        from datetime import datetime\n",
    "        timestamp_s = ts / 1e9\n",
    "        dt_object = datetime.fromtimestamp(timestamp_s)\n",
    "        formatted_time = dt_object.strftime(\"%Y-%m-%d %H:%M:%S\")\n",
    "        return formatted_time\n",
    "    except:\n",
    "        return ts"
   ]
  },
  {
   "cell_type": "code",
   "execution_count": 12,
   "id": "4eebebab",
   "metadata": {},
   "outputs": [
    {
     "ename": "RuntimeError",
     "evalue": "Event loop is closed",
     "output_type": "error",
     "traceback": [
      "\u001b[1;31m---------------------------------------------------------------------------\u001b[0m",
      "\u001b[1;31mRuntimeError\u001b[0m                              Traceback (most recent call last)",
      "Cell \u001b[1;32mIn[12], line 2\u001b[0m\n\u001b[0;32m      1\u001b[0m \u001b[38;5;28;01mimport\u001b[39;00m \u001b[38;5;21;01mtime\u001b[39;00m\n\u001b[1;32m----> 2\u001b[0m \u001b[43mtianqin\u001b[49m\u001b[38;5;241;43m.\u001b[39;49m\u001b[43mwait_update\u001b[49m\u001b[43m(\u001b[49m\u001b[43mtime\u001b[49m\u001b[38;5;241;43m.\u001b[39;49m\u001b[43mtime\u001b[49m\u001b[43m(\u001b[49m\u001b[43m)\u001b[49m\u001b[38;5;241;43m+\u001b[39;49m\u001b[38;5;241;43m2\u001b[39;49m\u001b[43m)\u001b[49m\n",
      "File \u001b[1;32m~\\AppData\\Roaming\\Python\\Python39\\site-packages\\tqsdk\\api.py:1904\u001b[0m, in \u001b[0;36mTqApi.wait_update\u001b[1;34m(self, deadline, _task)\u001b[0m\n\u001b[0;32m   1902\u001b[0m         \u001b[38;5;28;01mif\u001b[39;00m other_loop:\n\u001b[0;32m   1903\u001b[0m             _set_running_loop(\u001b[38;5;28;01mNone\u001b[39;00m)\n\u001b[1;32m-> 1904\u001b[0m     \u001b[38;5;28;01mreturn\u001b[39;00m \u001b[38;5;28;43mself\u001b[39;49m\u001b[38;5;241;43m.\u001b[39;49m\u001b[43m_wait_update\u001b[49m\u001b[43m(\u001b[49m\u001b[43mdeadline\u001b[49m\u001b[38;5;241;43m=\u001b[39;49m\u001b[43mdeadline\u001b[49m\u001b[43m,\u001b[49m\u001b[43m \u001b[49m\u001b[43m_task\u001b[49m\u001b[38;5;241;43m=\u001b[39;49m\u001b[43m_task\u001b[49m\u001b[43m)\u001b[49m\n\u001b[0;32m   1905\u001b[0m \u001b[38;5;28;01mfinally\u001b[39;00m:\n\u001b[0;32m   1906\u001b[0m     \u001b[38;5;28;01mif\u001b[39;00m other_loop:\n",
      "File \u001b[1;32m~\\AppData\\Roaming\\Python\\Python39\\site-packages\\tqsdk\\api.py:1911\u001b[0m, in \u001b[0;36mTqApi._wait_update\u001b[1;34m(self, deadline, _task)\u001b[0m\n\u001b[0;32m   1909\u001b[0m \u001b[38;5;28;01mdef\u001b[39;00m \u001b[38;5;21m_wait_update\u001b[39m(\u001b[38;5;28mself\u001b[39m, deadline: Optional[\u001b[38;5;28mfloat\u001b[39m] \u001b[38;5;241m=\u001b[39m \u001b[38;5;28;01mNone\u001b[39;00m, _task: Union[asyncio\u001b[38;5;241m.\u001b[39mTask, List[asyncio\u001b[38;5;241m.\u001b[39mTask], \u001b[38;5;28;01mNone\u001b[39;00m] \u001b[38;5;241m=\u001b[39m \u001b[38;5;28;01mNone\u001b[39;00m) \u001b[38;5;241m-\u001b[39m\u001b[38;5;241m>\u001b[39m \u001b[38;5;28mbool\u001b[39m:\n\u001b[0;32m   1910\u001b[0m     \u001b[38;5;66;03m# 先尝试执行各个task,再请求下个业务数据，可能用户的同步代码会在 chan 中 send 数据，需要先 run_tasks\u001b[39;00m\n\u001b[1;32m-> 1911\u001b[0m     \u001b[38;5;28;43mself\u001b[39;49m\u001b[38;5;241;43m.\u001b[39;49m\u001b[43m_run_until_idle\u001b[49m\u001b[43m(\u001b[49m\u001b[43masync_run\u001b[49m\u001b[38;5;241;43m=\u001b[39;49m\u001b[38;5;28;43;01mFalse\u001b[39;49;00m\u001b[43m)\u001b[49m\n\u001b[0;32m   1913\u001b[0m     \u001b[38;5;66;03m# 用户可能在同步或者异步代码中修改 klines 附加列的值\u001b[39;00m\n\u001b[0;32m   1914\u001b[0m     \u001b[38;5;66;03m#    同步代码：此次调用 wait_update 之前应该已经修改执行\u001b[39;00m\n\u001b[0;32m   1915\u001b[0m     \u001b[38;5;66;03m#    异步代码：上一行 self._run_until_idle() 可能会修改 klines 附加列的值\u001b[39;00m\n\u001b[0;32m   1916\u001b[0m     \u001b[38;5;66;03m# 所以放在这里处理， 总会发送 serial_extra_array 数据，由 TqWebHelper 处理\u001b[39;00m\n\u001b[0;32m   1917\u001b[0m     \u001b[38;5;28;01mfor\u001b[39;00m _, serial \u001b[38;5;129;01min\u001b[39;00m \u001b[38;5;28mself\u001b[39m\u001b[38;5;241m.\u001b[39m_serials\u001b[38;5;241m.\u001b[39mitems():\n",
      "File \u001b[1;32m~\\AppData\\Roaming\\Python\\Python39\\site-packages\\tqsdk\\baseApi.py:92\u001b[0m, in \u001b[0;36mTqBaseApi._run_until_idle\u001b[1;34m(self, async_run)\u001b[0m\n\u001b[0;32m     87\u001b[0m \u001b[38;5;250m\u001b[39m\u001b[38;5;124;03m\"\"\"执行 ioloop 直到没有待执行任务\u001b[39;00m\n\u001b[0;32m     88\u001b[0m \u001b[38;5;124;03masync_run is True 会从 _wait_idle_list 中取出等待的异步任务，保证同步代码优先于异步代码执行，\u001b[39;00m\n\u001b[0;32m     89\u001b[0m \u001b[38;5;124;03m只有被 _run_until_task_done 调用（即 api 等待 fetch_msg）时，async_run 会为 True\u001b[39;00m\n\u001b[0;32m     90\u001b[0m \u001b[38;5;124;03m\"\"\"\u001b[39;00m\n\u001b[0;32m     91\u001b[0m \u001b[38;5;28;01mwhile\u001b[39;00m \u001b[38;5;28mself\u001b[39m\u001b[38;5;241m.\u001b[39m_check_rev \u001b[38;5;241m!=\u001b[39m \u001b[38;5;28mself\u001b[39m\u001b[38;5;241m.\u001b[39m_event_rev:\n\u001b[1;32m---> 92\u001b[0m     check_handle \u001b[38;5;241m=\u001b[39m \u001b[38;5;28;43mself\u001b[39;49m\u001b[38;5;241;43m.\u001b[39;49m\u001b[43m_loop\u001b[49m\u001b[38;5;241;43m.\u001b[39;49m\u001b[43mcall_soon\u001b[49m\u001b[43m(\u001b[49m\u001b[38;5;28;43mself\u001b[39;49m\u001b[38;5;241;43m.\u001b[39;49m\u001b[43m_check_event\u001b[49m\u001b[43m,\u001b[49m\u001b[43m \u001b[49m\u001b[38;5;28;43mself\u001b[39;49m\u001b[38;5;241;43m.\u001b[39;49m\u001b[43m_event_rev\u001b[49m\u001b[43m \u001b[49m\u001b[38;5;241;43m+\u001b[39;49m\u001b[43m \u001b[49m\u001b[38;5;241;43m1\u001b[39;49m\u001b[43m)\u001b[49m\n\u001b[0;32m     93\u001b[0m     \u001b[38;5;28;01mtry\u001b[39;00m:\n\u001b[0;32m     94\u001b[0m         \u001b[38;5;28mself\u001b[39m\u001b[38;5;241m.\u001b[39m_run_once()\n",
      "File \u001b[1;32m~\\AppData\\Roaming\\Python\\Python39\\site-packages\\tqsdk\\baseApi.py:77\u001b[0m, in \u001b[0;36mTqBaseApi._call_soon\u001b[1;34m(self, org_call_soon, callback, *args, **kargs)\u001b[0m\n\u001b[0;32m     75\u001b[0m \u001b[38;5;250m\u001b[39m\u001b[38;5;124;03m\"\"\"ioloop.call_soon的补丁, 用来追踪是否有任务完成并等待执行\"\"\"\u001b[39;00m\n\u001b[0;32m     76\u001b[0m \u001b[38;5;28mself\u001b[39m\u001b[38;5;241m.\u001b[39m_event_rev \u001b[38;5;241m+\u001b[39m\u001b[38;5;241m=\u001b[39m \u001b[38;5;241m1\u001b[39m\n\u001b[1;32m---> 77\u001b[0m \u001b[38;5;28;01mreturn\u001b[39;00m org_call_soon(callback, \u001b[38;5;241m*\u001b[39margs, \u001b[38;5;241m*\u001b[39m\u001b[38;5;241m*\u001b[39mkargs)\n",
      "File \u001b[1;32mc:\\Program Files\\Python39\\lib\\asyncio\\base_events.py:746\u001b[0m, in \u001b[0;36mBaseEventLoop.call_soon\u001b[1;34m(self, callback, context, *args)\u001b[0m\n\u001b[0;32m    736\u001b[0m \u001b[38;5;28;01mdef\u001b[39;00m \u001b[38;5;21mcall_soon\u001b[39m(\u001b[38;5;28mself\u001b[39m, callback, \u001b[38;5;241m*\u001b[39margs, context\u001b[38;5;241m=\u001b[39m\u001b[38;5;28;01mNone\u001b[39;00m):\n\u001b[0;32m    737\u001b[0m \u001b[38;5;250m    \u001b[39m\u001b[38;5;124;03m\"\"\"Arrange for a callback to be called as soon as possible.\u001b[39;00m\n\u001b[0;32m    738\u001b[0m \n\u001b[0;32m    739\u001b[0m \u001b[38;5;124;03m    This operates as a FIFO queue: callbacks are called in the\u001b[39;00m\n\u001b[1;32m   (...)\u001b[0m\n\u001b[0;32m    744\u001b[0m \u001b[38;5;124;03m    the callback when it is called.\u001b[39;00m\n\u001b[0;32m    745\u001b[0m \u001b[38;5;124;03m    \"\"\"\u001b[39;00m\n\u001b[1;32m--> 746\u001b[0m     \u001b[38;5;28;43mself\u001b[39;49m\u001b[38;5;241;43m.\u001b[39;49m\u001b[43m_check_closed\u001b[49m\u001b[43m(\u001b[49m\u001b[43m)\u001b[49m\n\u001b[0;32m    747\u001b[0m     \u001b[38;5;28;01mif\u001b[39;00m \u001b[38;5;28mself\u001b[39m\u001b[38;5;241m.\u001b[39m_debug:\n\u001b[0;32m    748\u001b[0m         \u001b[38;5;28mself\u001b[39m\u001b[38;5;241m.\u001b[39m_check_thread()\n",
      "File \u001b[1;32mc:\\Program Files\\Python39\\lib\\asyncio\\base_events.py:510\u001b[0m, in \u001b[0;36mBaseEventLoop._check_closed\u001b[1;34m(self)\u001b[0m\n\u001b[0;32m    508\u001b[0m \u001b[38;5;28;01mdef\u001b[39;00m \u001b[38;5;21m_check_closed\u001b[39m(\u001b[38;5;28mself\u001b[39m):\n\u001b[0;32m    509\u001b[0m     \u001b[38;5;28;01mif\u001b[39;00m \u001b[38;5;28mself\u001b[39m\u001b[38;5;241m.\u001b[39m_closed:\n\u001b[1;32m--> 510\u001b[0m         \u001b[38;5;28;01mraise\u001b[39;00m \u001b[38;5;167;01mRuntimeError\u001b[39;00m(\u001b[38;5;124m'\u001b[39m\u001b[38;5;124mEvent loop is closed\u001b[39m\u001b[38;5;124m'\u001b[39m)\n",
      "\u001b[1;31mRuntimeError\u001b[0m: Event loop is closed"
     ]
    }
   ],
   "source": [
    "import time\n",
    "tianqin.wait_update(time.time()+2)"
   ]
  },
  {
   "cell_type": "code",
   "execution_count": 17,
   "id": "acc734bf",
   "metadata": {},
   "outputs": [],
   "source": [
    "tianqin.close()"
   ]
  },
  {
   "cell_type": "code",
   "execution_count": 9,
   "id": "ebcf5d4f",
   "metadata": {},
   "outputs": [
    {
     "data": {
      "text/plain": [
       "'2025-10-20 14:59:59'"
      ]
     },
     "execution_count": 9,
     "metadata": {},
     "output_type": "execute_result"
    }
   ],
   "source": [
    "# tianqin.wait_update()\n",
    "d = tianqin.get_quote(\"SHFE.cu2512\")['datetime'].split('.')[0]\n",
    "d"
   ]
  },
  {
   "cell_type": "code",
   "execution_count": 37,
   "id": "da40f280",
   "metadata": {},
   "outputs": [
    {
     "data": {
      "text/plain": [
       "datetime.datetime(2025, 10, 20, 14, 59, 59)"
      ]
     },
     "execution_count": 37,
     "metadata": {},
     "output_type": "execute_result"
    }
   ],
   "source": [
    "datetime.datetime.strptime(d, '%Y-%m-%d %H:%M:%S')"
   ]
  },
  {
   "cell_type": "code",
   "execution_count": 30,
   "id": "2bf2e392",
   "metadata": {},
   "outputs": [],
   "source": [
    "from backtrader.utils import date2num"
   ]
  },
  {
   "cell_type": "code",
   "execution_count": 31,
   "id": "ff018f07",
   "metadata": {},
   "outputs": [
    {
     "name": "stdout",
     "output_type": "stream",
     "text": [
      "Help on function date2num in module backtrader.utils.dateintern:\n",
      "\n",
      "date2num(dt, tz=None)\n",
      "    Convert :mod:`datetime` to the Gregorian date as UTC float days,\n",
      "    preserving hours, minutes, seconds and microseconds.  Return value\n",
      "    is a :func:`float`.\n",
      "\n"
     ]
    }
   ],
   "source": [
    "help(date2num)"
   ]
  },
  {
   "cell_type": "code",
   "execution_count": 38,
   "id": "c3f7e64f",
   "metadata": {},
   "outputs": [
    {
     "data": {
      "text/plain": [
       "739544.6249884259"
      ]
     },
     "execution_count": 38,
     "metadata": {},
     "output_type": "execute_result"
    }
   ],
   "source": [
    "date2num(datetime.datetime.strptime(d, '%Y-%m-%d %H:%M:%S'))"
   ]
  },
  {
   "cell_type": "code",
   "execution_count": 51,
   "id": "b2618722",
   "metadata": {},
   "outputs": [
    {
     "name": "stdout",
     "output_type": "stream",
     "text": [
      "5\n"
     ]
    }
   ],
   "source": [
    "class B:\n",
    "    def __init__(self, a):\n",
    "        self.a  = a\n",
    "\n",
    "class A:\n",
    "    def __init__(self):\n",
    "        self.a = 1\n",
    "    \n",
    "    def get(self):\n",
    "        return B(self)\n",
    "a = A()\n",
    "b = a.get()\n",
    "b.a.a = 5\n",
    "print(a.a)"
   ]
  },
  {
   "cell_type": "code",
   "execution_count": 52,
   "id": "237b0800",
   "metadata": {},
   "outputs": [],
   "source": [
    "import datetime"
   ]
  },
  {
   "cell_type": "code",
   "execution_count": 55,
   "id": "1ccd07e3",
   "metadata": {},
   "outputs": [
    {
     "data": {
      "text/plain": [
       "True"
      ]
     },
     "execution_count": 55,
     "metadata": {},
     "output_type": "execute_result"
    }
   ],
   "source": [
    "datetime.datetime.now().strftime('%H:%M') >= '09:00'"
   ]
  },
  {
   "cell_type": "code",
   "execution_count": null,
   "id": "58bcd4ac",
   "metadata": {},
   "outputs": [],
   "source": []
  }
 ],
 "metadata": {
  "kernelspec": {
   "display_name": "Python 3",
   "language": "python",
   "name": "python3"
  },
  "language_info": {
   "codemirror_mode": {
    "name": "ipython",
    "version": 3
   },
   "file_extension": ".py",
   "mimetype": "text/x-python",
   "name": "python",
   "nbconvert_exporter": "python",
   "pygments_lexer": "ipython3",
   "version": "3.9.10"
  }
 },
 "nbformat": 4,
 "nbformat_minor": 5
}
